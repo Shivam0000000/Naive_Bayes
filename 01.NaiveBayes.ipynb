{
 "cells": [
  {
   "cell_type": "markdown",
   "id": "2bd2d697-779d-4953-abe6-ce6f7fecb398",
   "metadata": {},
   "source": [
    "Q1. What is Bayes' theorem?\n"
   ]
  },
  {
   "cell_type": "code",
   "execution_count": null,
   "id": "58a771f4-1139-43fa-96c3-c5de2290584d",
   "metadata": {},
   "outputs": [],
   "source": [
    "\"\"\"\n",
    "Bayes' theorem is a mathematical formula used to update the probability of an event based on new evidence\n",
    "or information. It calculates the probability of event A happening given that event B has occurred, taking\n",
    "into account prior knowledge of the probabilities of A and B. It's a fundamental tool in probability theory\n",
    "and is widely applied in various fields for making informed decisions and predictions.\n",
    "\"\"\""
   ]
  },
  {
   "cell_type": "markdown",
   "id": "0403b32e-1e8c-4005-84cb-0c4802501dcb",
   "metadata": {},
   "source": [
    "Q2. What is the formula for Bayes' theorem?\n"
   ]
  },
  {
   "cell_type": "code",
   "execution_count": null,
   "id": "82105b84-02ef-41dd-a2c5-8f7c11c0fd6e",
   "metadata": {},
   "outputs": [],
   "source": [
    "\"\"\"\n",
    "P(B∣A)=(P(A∣B)⋅P(B))/P(A)\n",
    "\"\"\"        "
   ]
  },
  {
   "cell_type": "markdown",
   "id": "33061e52-77a0-40be-ba68-a7e727e95b3a",
   "metadata": {},
   "source": [
    "Q3. How is Bayes' theorem used in practice?\n"
   ]
  },
  {
   "cell_type": "code",
   "execution_count": null,
   "id": "df119b2f-64cd-4fa8-8d66-db031199853f",
   "metadata": {},
   "outputs": [],
   "source": [
    "\"\"\"\n",
    "Bayes' theorem is widely used in practical applications where probabilistic reasoning is essential. In essence, \n",
    "it provides a mathematical framework for updating beliefs or probabilities based on new evidence. This theorem \n",
    "is practically applied in fields such as medicine, spam filtering, machine learning, finance, and more.\n",
    "\n",
    "For instance, in medical diagnosis, Bayes' theorem helps physicians assess the probability of a disease given \n",
    "symptoms and test results, aiding in accurate diagnoses. In spam filtering, it helps classify emails as spam \n",
    "or not by analyzing the likelihood of certain words in spam messages. In machine learning, Bayesian methods \n",
    "enable probabilistic modeling, classification, and regression, enhancing predictive accuracy. In finance,\n",
    "Bayesian approaches are used for risk assessment and portfolio management.\n",
    "\n",
    "Bayes' theorem's flexibility and adaptability make it a fundamental tool for making informed decisions and \n",
    "predictions in diverse areas, especially when dealing with uncertainty and conditional dependencies. Its practical \n",
    "applications continue to grow as data-driven decision-making becomes increasingly prevalent across industries.\n",
    "\"\"\""
   ]
  },
  {
   "cell_type": "markdown",
   "id": "8c9cbf71-71d2-40ca-a772-4e9541bfc5bd",
   "metadata": {},
   "source": [
    "Q4. What is the relationship between Bayes' theorem and conditional probability?\n"
   ]
  },
  {
   "cell_type": "code",
   "execution_count": null,
   "id": "57f7b4c6-26d0-456f-a125-18972b651630",
   "metadata": {},
   "outputs": [],
   "source": [
    "\"\"\"\n",
    "\n",
    "Bayes' theorem and conditional probability are intimately connected concepts within the realm of probability theory. \n",
    "Conditional probability, denoted as P(A∣B), represents the probability of an event A occurring under the condition \n",
    "that another event B has already occurred. It quantifies how the probability of one event is influenced by the \n",
    "knowledge or occurrence of another event.\n",
    "\n",
    "Bayes' theorem, on the other hand, is a mathematical framework that formalizes the calculation of conditional \n",
    "probabilities. It provides a systematic way to update or revise probabilities based on new evidence or information.\n",
    "The theorem allows us to find the probability of event A given event B by considering the probability of event B\n",
    "given event A, along with the marginal probabilities of A and B.\n",
    "\n",
    "In essence, Bayes' theorem is a tool for calculating conditional probabilities, making it indispensable in situations \n",
    "where we need to make inferences, predictions, or decisions by incorporating new data or observations into our existing\n",
    "beliefs or probabilities. It is widely applied in various fields, including statistics, machine learning, and Bayesian\n",
    "inference, to handle uncertainty and conditional dependencies in a principled manner.\n",
    "\"\"\""
   ]
  },
  {
   "cell_type": "markdown",
   "id": "be929927-dde5-4eaa-a7d7-02546a70f2fa",
   "metadata": {},
   "source": [
    "Q5. How do you choose which type of Naive Bayes classifier to use for any given problem?\n"
   ]
  },
  {
   "cell_type": "code",
   "execution_count": null,
   "id": "b3e3d4f6-511a-4d56-8879-8fa0d46bcb72",
   "metadata": {},
   "outputs": [],
   "source": [
    "\"\"\"\n",
    "Selecting the appropriate type of Naive Bayes classifier for a given problem involves considering the nature\n",
    "of the data and the specific requirements of the task. Here are some guidelines:\n",
    "\n",
    "Gaussian Naive Bayes:\n",
    "->Use it when dealing with continuous data following a Gaussian distribution, such as real-valued features.\n",
    "->Suitable for problems like spam detection with continuous attributes or sentiment analysis with continuous \n",
    "sentiment scores.\n",
    "\n",
    "Multinomial Naive Bayes:\n",
    "->Opt for this classifier when working with discrete data, especially in text-based problems with count-based\n",
    "  or frequency-based features.\n",
    "->Ideal for tasks like text classification, document categorization, or sentiment analysis using word frequencies.\n",
    "\n",
    "Bernoulli Naive Bayes:\n",
    "->Choose it for binary data, where features are binary variables representing presence or absence.\n",
    "->Effective in text classification using binary bag-of-words features or document classification.\n",
    "\n",
    "\n",
    "To decide, understand your data and problem domain, and experiment with different Naive Bayes variants while evaluating\n",
    "their performance. Additionally, consider variations or hybrid approaches if the standard classifiers don't align\n",
    "perfectly with your problem. Ultimately, the choice should be based on a combination of domain knowledge, data \n",
    "characteristics, and empirical assessment to ensure the most suitable model for the task at hand.\n",
    "\"\"\""
   ]
  },
  {
   "cell_type": "markdown",
   "id": "2cef6d87-50f1-458b-ab1f-a0c0d5bf9d4a",
   "metadata": {},
   "source": [
    "Q6. Assignment:\n",
    "You have a dataset with two features, X1 and X2, and two possible classes, A and B. You want to use Naive\n",
    "Bayes to classify a new instance with features X1 = 3 and X2 = 4. The following table shows the frequency of\n",
    "each feature value for each class:\n",
    "    \n",
    "Class: A,B\n",
    "\n",
    "X1=1: 3,2\n",
    "\n",
    "X1=2: 3,2\n",
    "\n",
    "X1=3: 4,1\n",
    "\n",
    "X2=1: 4,2\n",
    "\n",
    "X2=2: 3,2\n",
    "\n",
    "X2=3: 3,2\n",
    "\n",
    "X2=4: 3,3\n",
    "\n",
    "Assuming equal prior probabilities for each class, which class would Naive Bayes predict the new instance\n",
    "to belong to?"
   ]
  },
  {
   "cell_type": "code",
   "execution_count": null,
   "id": "1dd9099f-d34a-40be-b92b-2c55e50aab37",
   "metadata": {},
   "outputs": [],
   "source": [
    "\"\"\"\n",
    "To use Naive Bayes for classification, you can calculate the probability of each class (A and B) given the\n",
    "values of X1 = 3 and X2 = 4. You'll use the Naive Bayes formula, which assumes that the features are \n",
    "conditionally independent given the class:\n",
    "\n",
    "P(Class|X1=3, X2=4) ∝ P(X1=3|Class) * P(X2=4|Class) * P(Class)\n",
    "\n",
    "First, calculate P(X1=3|Class) and P(X2=4|Class) for each class:\n",
    "\n",
    "For Class A:\n",
    "P(X1=3|A) = 4/12 = 1/3\n",
    "P(X2=4|A) = 3/9 = 1/3\n",
    "\n",
    "For Class B:\n",
    "P(X1=3|B) = 1/7\n",
    "P(X2=4|B) = 3/8\n",
    "\n",
    "Since we assume equal prior probabilities for each class, P(Class) is the same for both classes:\n",
    "\n",
    "P(Class=A) = P(Class=B) = 1/2\n",
    "\n",
    "Now, we can calculate the posterior probabilities for each class:\n",
    "\n",
    "For Class A:\n",
    "P(A|X1=3, X2=4) ∝ (1/3) * (1/3) * (1/2) = 1/18\n",
    "\n",
    "For Class B:\n",
    "P(B|X1=3, X2=4) ∝ (1/7) * (3/8) * (1/2) = 3/112\n",
    "\n",
    "Comparing the posterior probabilities, we can see that:\n",
    "\n",
    "P(A|X1=3, X2=4) > P(B|X1=3, X2=4)\n",
    "\n",
    "Therefore, Naive Bayes would predict that the new instance with features X1 = 3 and X2 = 4 belongs to Class A.\n",
    "\"\"\""
   ]
  }
 ],
 "metadata": {
  "kernelspec": {
   "display_name": "Python 3 (ipykernel)",
   "language": "python",
   "name": "python3"
  },
  "language_info": {
   "codemirror_mode": {
    "name": "ipython",
    "version": 3
   },
   "file_extension": ".py",
   "mimetype": "text/x-python",
   "name": "python",
   "nbconvert_exporter": "python",
   "pygments_lexer": "ipython3",
   "version": "3.10.8"
  }
 },
 "nbformat": 4,
 "nbformat_minor": 5
}
