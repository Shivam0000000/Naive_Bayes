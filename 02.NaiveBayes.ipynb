{
 "cells": [
  {
   "cell_type": "markdown",
   "id": "e006bd7d-0b35-48a0-b1ae-5802341cf21e",
   "metadata": {},
   "source": [
    "Q1. A company conducted a survey of its employees and found that 70% of the employees use the\n",
    "company's health insurance plan, while 40% of the employees who use the plan are smokers. What is the\n",
    "probability that an employee is a smoker given that he/she uses the health insurance plan?\n"
   ]
  },
  {
   "cell_type": "code",
   "execution_count": null,
   "id": "f193ff8d-0b68-46d0-8fa5-1696dc4965a9",
   "metadata": {},
   "outputs": [],
   "source": [
    "\"\"\"\n",
    "The probability that an employee is a smoker given that he/she uses the health insurance plan is 40%.\n",
    "\"\"\""
   ]
  },
  {
   "cell_type": "markdown",
   "id": "fdbf3dd4-1dcc-40d1-afda-d9ea65ec0868",
   "metadata": {},
   "source": [
    "Q2. What is the difference between Bernoulli Naive Bayes and Multinomial Naive Bayes?\n"
   ]
  },
  {
   "cell_type": "code",
   "execution_count": null,
   "id": "67da48ae-5e32-41eb-9837-3c601cc3dc1b",
   "metadata": {},
   "outputs": [],
   "source": [
    "\"\"\"\n",
    "Bernoulli Naive Bayes and Multinomial Naive Bayes are two variants of the Naive Bayes classification algorithm,\n",
    "primarily differing in the types of data they are designed to handle and how they model feature probabilities.\n",
    "\n",
    "Bernoulli Naive Bayes is well-suited for binary data, where features are represented as either 0 (absence) or\n",
    "1 (presence). It assumes that each feature is a binary variable, often used in text classification tasks where \n",
    "features represent the presence or absence of specific words or attributes in a document.\n",
    "\n",
    "On the other hand, Multinomial Naive Bayes is intended for discrete data, particularly when dealing with \n",
    "count-based or frequency-based features. It models the probability of observing a specific count or frequency of \n",
    "each feature, making it a natural choice for tasks like text classification where features represent the counts or\n",
    "frequencies of words in a document, such as term frequency (TF) or term frequency-inverse document frequency (TF-IDF).\n",
    "\n",
    "The choice between Bernoulli and Multinomial Naive Bayes depends on the nature of the data and the problem domain,\n",
    "particularly in applications involving text analysis and feature representation.\n",
    "\"\"\""
   ]
  },
  {
   "cell_type": "markdown",
   "id": "af53b2d0-d215-4d65-809c-01b03f5e4703",
   "metadata": {},
   "source": [
    "Q3. How does Bernoulli Naive Bayes handle missing values?\n"
   ]
  },
  {
   "cell_type": "code",
   "execution_count": null,
   "id": "17a3c6a4-b878-4714-bb10-4dd4760b6893",
   "metadata": {},
   "outputs": [],
   "source": [
    "\"\"\"\n",
    "Bernoulli Naive Bayes, like other variants of the Naive Bayes algorithm, typically doesn't handle missing values \n",
    "explicitly. Instead, it makes an assumption that can affect how missing values are treated implicitly:\n",
    "\n",
    "Assumption:\n",
    "In Bernoulli Naive Bayes, it's assumed that each feature is a binary variable, representing the presence (1) or\n",
    "absence (0) of a specific attribute or event. This assumption implies that if a feature's value is missing, it is\n",
    "treated as if the attribute is absent (0).\n",
    "\n",
    "In practice, this means that when you use Bernoulli Naive Bayes and encounter missing values, you should preprocess \n",
    "your data by assigning a value (0 or 1) to represent the presence or absence of the missing feature. The choice of\n",
    "assigning 0 or 1 depends on your domain knowledge and the specific problem you are addressing.\n",
    "\n",
    "Handling missing values in any Naive Bayes variant, including Bernoulli Naive Bayes, requires careful consideration \n",
    "and domain expertise to ensure that the assumptions made align with the nature of the data and the problem you are\n",
    "trying to solve.\n",
    "\"\"\""
   ]
  },
  {
   "cell_type": "markdown",
   "id": "919bd3f7-a14d-4a74-99c1-75f681fbbc2f",
   "metadata": {},
   "source": [
    "Q4. Can Gaussian Naive Bayes be used for multi-class classification?\n"
   ]
  },
  {
   "cell_type": "code",
   "execution_count": null,
   "id": "c46cb5a0-9190-40b8-bbed-22ac8c59aaa8",
   "metadata": {},
   "outputs": [],
   "source": [
    "\"\"\"\n",
    "Yes,\n",
    "Gaussian Naive Bayes can be used for multi-class classification tasks. Gaussian Naive Bayes is an extension of the\n",
    "Naive Bayes algorithm that assumes that the features in the dataset follow a Gaussian (normal) distribution. While\n",
    "the original Naive Bayes algorithm is typically used for binary classification problems, Gaussian Naive Bayes can \n",
    "be adapted to handle multi-class classification.\n",
    "\"\"\""
   ]
  },
  {
   "cell_type": "markdown",
   "id": "33404be5-f0a0-40d8-8bfd-8fa8a1d4cd82",
   "metadata": {},
   "source": [
    "Q5. Assignment:\n",
    "    \n",
    "Data preparation:\n",
    "    \n",
    "Download the \"Spambase Data Set\" from the UCI Machine Learning Repository (https://archive.ics.uci.edu/ml/\n",
    "datasets/Spambase). This dataset contains email messages, where the goal is to predict whether a message\n",
    "is spam or not based on several input features.\n",
    "\n",
    "Implementation:\n",
    "    \n",
    "Implement Bernoulli Naive Bayes, Multinomial Naive Bayes, and Gaussian Naive Bayes classifiers using the\n",
    "scikit-learn library in Python. Use 10-fold cross-validation to evaluate the performance of each classifier on the\n",
    "dataset. You should use the default hyperparameters for each classifier.\n",
    "\n",
    "Results:\n",
    "    \n",
    "Report the following performance metrics for each classifier:\n",
    "    \n",
    "Accuracy\n",
    "\n",
    "Precision\n",
    "\n",
    "Recall\n",
    "\n",
    "F1 score\n",
    "\n",
    "Discussion:\n",
    "\n",
    "Discuss the results you obtained. Which variant of Naive Bayes performed the best? Why do you think that is\n",
    "the case? Are there any limitations of Naive Bayes that you observed?\n",
    "\n",
    "Conclusion:\n",
    "\n",
    "Summarise your findings and provide some suggestions for future work.\n",
    "\n",
    "Note: Create your assignment in Jupyter notebook and upload it to GitHub & share that github repository\n",
    "link through your dashboard. Make sure the repository is public.\n",
    "\n",
    "Note: This dataset contains a binary classification problem with multiple features. The dataset is\n",
    "relatively small, but it can be used to demonstrate the performance of the different variants of Naive\n",
    "Bayes on a real-world problem."
   ]
  },
  {
   "cell_type": "code",
   "execution_count": 30,
   "id": "f2b3fcac-d2a8-49ed-83f9-268c05258eac",
   "metadata": {},
   "outputs": [
    {
     "data": {
      "text/html": [
       "<div>\n",
       "<style scoped>\n",
       "    .dataframe tbody tr th:only-of-type {\n",
       "        vertical-align: middle;\n",
       "    }\n",
       "\n",
       "    .dataframe tbody tr th {\n",
       "        vertical-align: top;\n",
       "    }\n",
       "\n",
       "    .dataframe thead th {\n",
       "        text-align: right;\n",
       "    }\n",
       "</style>\n",
       "<table border=\"1\" class=\"dataframe\">\n",
       "  <thead>\n",
       "    <tr style=\"text-align: right;\">\n",
       "      <th></th>\n",
       "      <th>0</th>\n",
       "      <th>0.64</th>\n",
       "      <th>0.64.1</th>\n",
       "      <th>0.1</th>\n",
       "      <th>0.32</th>\n",
       "      <th>0.2</th>\n",
       "      <th>0.3</th>\n",
       "      <th>0.4</th>\n",
       "      <th>0.5</th>\n",
       "      <th>0.6</th>\n",
       "      <th>...</th>\n",
       "      <th>0.41</th>\n",
       "      <th>0.42</th>\n",
       "      <th>0.43</th>\n",
       "      <th>0.778</th>\n",
       "      <th>0.44</th>\n",
       "      <th>0.45</th>\n",
       "      <th>3.756</th>\n",
       "      <th>61</th>\n",
       "      <th>278</th>\n",
       "      <th>1</th>\n",
       "    </tr>\n",
       "  </thead>\n",
       "  <tbody>\n",
       "    <tr>\n",
       "      <th>0</th>\n",
       "      <td>0.21</td>\n",
       "      <td>0.28</td>\n",
       "      <td>0.50</td>\n",
       "      <td>0.0</td>\n",
       "      <td>0.14</td>\n",
       "      <td>0.28</td>\n",
       "      <td>0.21</td>\n",
       "      <td>0.07</td>\n",
       "      <td>0.00</td>\n",
       "      <td>0.94</td>\n",
       "      <td>...</td>\n",
       "      <td>0.00</td>\n",
       "      <td>0.132</td>\n",
       "      <td>0.0</td>\n",
       "      <td>0.372</td>\n",
       "      <td>0.180</td>\n",
       "      <td>0.048</td>\n",
       "      <td>5.114</td>\n",
       "      <td>101</td>\n",
       "      <td>1028</td>\n",
       "      <td>1</td>\n",
       "    </tr>\n",
       "    <tr>\n",
       "      <th>1</th>\n",
       "      <td>0.06</td>\n",
       "      <td>0.00</td>\n",
       "      <td>0.71</td>\n",
       "      <td>0.0</td>\n",
       "      <td>1.23</td>\n",
       "      <td>0.19</td>\n",
       "      <td>0.19</td>\n",
       "      <td>0.12</td>\n",
       "      <td>0.64</td>\n",
       "      <td>0.25</td>\n",
       "      <td>...</td>\n",
       "      <td>0.01</td>\n",
       "      <td>0.143</td>\n",
       "      <td>0.0</td>\n",
       "      <td>0.276</td>\n",
       "      <td>0.184</td>\n",
       "      <td>0.010</td>\n",
       "      <td>9.821</td>\n",
       "      <td>485</td>\n",
       "      <td>2259</td>\n",
       "      <td>1</td>\n",
       "    </tr>\n",
       "    <tr>\n",
       "      <th>2</th>\n",
       "      <td>0.00</td>\n",
       "      <td>0.00</td>\n",
       "      <td>0.00</td>\n",
       "      <td>0.0</td>\n",
       "      <td>0.63</td>\n",
       "      <td>0.00</td>\n",
       "      <td>0.31</td>\n",
       "      <td>0.63</td>\n",
       "      <td>0.31</td>\n",
       "      <td>0.63</td>\n",
       "      <td>...</td>\n",
       "      <td>0.00</td>\n",
       "      <td>0.137</td>\n",
       "      <td>0.0</td>\n",
       "      <td>0.137</td>\n",
       "      <td>0.000</td>\n",
       "      <td>0.000</td>\n",
       "      <td>3.537</td>\n",
       "      <td>40</td>\n",
       "      <td>191</td>\n",
       "      <td>1</td>\n",
       "    </tr>\n",
       "    <tr>\n",
       "      <th>3</th>\n",
       "      <td>0.00</td>\n",
       "      <td>0.00</td>\n",
       "      <td>0.00</td>\n",
       "      <td>0.0</td>\n",
       "      <td>0.63</td>\n",
       "      <td>0.00</td>\n",
       "      <td>0.31</td>\n",
       "      <td>0.63</td>\n",
       "      <td>0.31</td>\n",
       "      <td>0.63</td>\n",
       "      <td>...</td>\n",
       "      <td>0.00</td>\n",
       "      <td>0.135</td>\n",
       "      <td>0.0</td>\n",
       "      <td>0.135</td>\n",
       "      <td>0.000</td>\n",
       "      <td>0.000</td>\n",
       "      <td>3.537</td>\n",
       "      <td>40</td>\n",
       "      <td>191</td>\n",
       "      <td>1</td>\n",
       "    </tr>\n",
       "    <tr>\n",
       "      <th>4</th>\n",
       "      <td>0.00</td>\n",
       "      <td>0.00</td>\n",
       "      <td>0.00</td>\n",
       "      <td>0.0</td>\n",
       "      <td>1.85</td>\n",
       "      <td>0.00</td>\n",
       "      <td>0.00</td>\n",
       "      <td>1.85</td>\n",
       "      <td>0.00</td>\n",
       "      <td>0.00</td>\n",
       "      <td>...</td>\n",
       "      <td>0.00</td>\n",
       "      <td>0.223</td>\n",
       "      <td>0.0</td>\n",
       "      <td>0.000</td>\n",
       "      <td>0.000</td>\n",
       "      <td>0.000</td>\n",
       "      <td>3.000</td>\n",
       "      <td>15</td>\n",
       "      <td>54</td>\n",
       "      <td>1</td>\n",
       "    </tr>\n",
       "  </tbody>\n",
       "</table>\n",
       "<p>5 rows × 58 columns</p>\n",
       "</div>"
      ],
      "text/plain": [
       "      0  0.64  0.64.1  0.1  0.32   0.2   0.3   0.4   0.5   0.6  ...  0.41  \\\n",
       "0  0.21  0.28    0.50  0.0  0.14  0.28  0.21  0.07  0.00  0.94  ...  0.00   \n",
       "1  0.06  0.00    0.71  0.0  1.23  0.19  0.19  0.12  0.64  0.25  ...  0.01   \n",
       "2  0.00  0.00    0.00  0.0  0.63  0.00  0.31  0.63  0.31  0.63  ...  0.00   \n",
       "3  0.00  0.00    0.00  0.0  0.63  0.00  0.31  0.63  0.31  0.63  ...  0.00   \n",
       "4  0.00  0.00    0.00  0.0  1.85  0.00  0.00  1.85  0.00  0.00  ...  0.00   \n",
       "\n",
       "    0.42  0.43  0.778   0.44   0.45  3.756   61   278  1  \n",
       "0  0.132   0.0  0.372  0.180  0.048  5.114  101  1028  1  \n",
       "1  0.143   0.0  0.276  0.184  0.010  9.821  485  2259  1  \n",
       "2  0.137   0.0  0.137  0.000  0.000  3.537   40   191  1  \n",
       "3  0.135   0.0  0.135  0.000  0.000  3.537   40   191  1  \n",
       "4  0.223   0.0  0.000  0.000  0.000  3.000   15    54  1  \n",
       "\n",
       "[5 rows x 58 columns]"
      ]
     },
     "execution_count": 30,
     "metadata": {},
     "output_type": "execute_result"
    }
   ],
   "source": [
    "# importing dataset\n",
    "import pandas as pd\n",
    "df=pd.read_csv('spambase.data')\n",
    "df.head()"
   ]
  },
  {
   "cell_type": "code",
   "execution_count": 31,
   "id": "274982ef-f545-45a7-94fb-4dd6a3a08986",
   "metadata": {},
   "outputs": [],
   "source": [
    "# define X and y\n",
    "X=df.iloc[:,:-1]\n",
    "y=df.iloc[:,-1]"
   ]
  },
  {
   "cell_type": "code",
   "execution_count": 39,
   "id": "18706082-45ec-4d96-a04d-1df1dea2e32d",
   "metadata": {},
   "outputs": [],
   "source": [
    "# split train and test\n",
    "from sklearn.model_selection import train_test_split\n",
    "\n",
    "X_train,X_test,y_train,y_test=train_test_split(X,y,test_size=.20,random_state=44)"
   ]
  },
  {
   "cell_type": "code",
   "execution_count": 40,
   "id": "8cd58b4f-1c81-4e2b-9663-fa3eed6b3896",
   "metadata": {},
   "outputs": [],
   "source": [
    "# Import Model Libraries\n",
    "from sklearn.naive_bayes import GaussianNB\n",
    "from sklearn.naive_bayes import BernoulliNB\n",
    "from sklearn.naive_bayes import MultinomialNB"
   ]
  },
  {
   "cell_type": "code",
   "execution_count": 41,
   "id": "cfac32b1-8eb1-41e3-8901-f3622347a8a7",
   "metadata": {},
   "outputs": [
    {
     "name": "stdout",
     "output_type": "stream",
     "text": [
      "Accuracy: 0.808695652173913\n"
     ]
    }
   ],
   "source": [
    "# Gaussian Naive Bayes \n",
    "G_clf=GaussianNB()\n",
    "\n",
    "G_clf.fit(X_train,y_train)\n",
    "\n",
    "y_pred=G_clf.predict(X_test)\n",
    "\n",
    "# Calculate the accuracy of the predictions\n",
    "import numpy as np\n",
    "\n",
    "accuracy = np.sum(y_pred == y_test) / len(y_test)\n",
    "print('Accuracy:', accuracy)"
   ]
  },
  {
   "cell_type": "code",
   "execution_count": 42,
   "id": "6dd2ab58-27cf-4c03-a0bd-e73ca43ff7dc",
   "metadata": {},
   "outputs": [
    {
     "name": "stdout",
     "output_type": "stream",
     "text": [
      "Accuracy: 0.8771739130434782\n"
     ]
    }
   ],
   "source": [
    "# Bernoulli Naive bayes \n",
    "B_clf=BernoulliNB()\n",
    "\n",
    "B_clf.fit(X_train,y_train)\n",
    "\n",
    "y_pred=B_clf.predict(X_test)\n",
    "\n",
    "# Calculate the accuracy of the predictions\n",
    "import numpy as np\n",
    "\n",
    "accuracy = np.sum(y_pred == y_test) / len(y_test)\n",
    "print('Accuracy:', accuracy)"
   ]
  },
  {
   "cell_type": "code",
   "execution_count": 43,
   "id": "19d4847c-b448-44f5-bdfc-7188df209f68",
   "metadata": {},
   "outputs": [
    {
     "name": "stdout",
     "output_type": "stream",
     "text": [
      "Accuracy: 0.783695652173913\n"
     ]
    }
   ],
   "source": [
    "# Multinomial Naive Bayes\n",
    "M_clf=MultinomialNB()\n",
    "\n",
    "M_clf.fit(X_train,y_train)\n",
    "\n",
    "y_pred=M_clf.predict(X_test)\n",
    "\n",
    "# Calculate the accuracy of the predictions\n",
    "import numpy as np\n",
    "\n",
    "accuracy = np.sum(y_pred == y_test) / len(y_test)\n",
    "print('Accuracy:', accuracy)"
   ]
  },
  {
   "cell_type": "markdown",
   "id": "f5415fff-926c-49e4-9836-0e9d5848fe15",
   "metadata": {},
   "source": [
    "#### Discuss the results you obtained. Which variant of Naive Bayes performed the best? Why do you think that is the case? Are there any limitations of Naive Bayes that you observed?\n"
   ]
  },
  {
   "cell_type": "code",
   "execution_count": null,
   "id": "aa511247-4704-4b19-9055-2a24fb770c3f",
   "metadata": {},
   "outputs": [],
   "source": [
    "\n",
    "\"\"\"\n",
    "In general, Naive Bayes classifiers are known for their simplicity and effectiveness. They are also relatively easy to train\n",
    "and can be used with a variety of different datasets.\n",
    "\n",
    "In the case of the Spambase dataset, the Bernoulli Naive Bayes classifier performed the best, with an accuracy of 87% on the\n",
    "test set. This is likely due to the fact that the Bernoulli Naive Bayes classifier assumes that the Target values are binary.\n",
    "This assumption is reasonable for the features in the Spambase dataset, which are derived from the text of email messages.\n",
    "\"\"\"\n"
   ]
  },
  {
   "cell_type": "markdown",
   "id": "64671453-cb6b-4ad3-969a-6c766e61a655",
   "metadata": {},
   "source": [
    "#### Summarise your findings and provide some suggestions for future work."
   ]
  },
  {
   "cell_type": "code",
   "execution_count": null,
   "id": "9d83ddc0-48e8-4e78-a52f-6f9aa38082e7",
   "metadata": {},
   "outputs": [],
   "source": [
    "\"\"\"\n",
    "Summary of findings:\n",
    "\n",
    "->Naive Bayes classifiers are a simple and effective way to classify email messages.\n",
    "->The Bernoulli Naive Bayes classifier performed the best on the Spambase dataset, with an accuracy of 87% on\n",
    "  the test set.\n",
    "->Other variants of Naive Bayes, such as the Gaussian Naive Bayes classifier and the Multinomial Naive Bayes\n",
    "  classifier, also performed well on the Spambase dataset.\n",
    "->One limitation of Naive Bayes classifiers is that they make the assumption that the features of a data point \n",
    "  are independent of each other.\n",
    "->Another limitation of Naive Bayes classifiers is that they can be sensitive to outliers.\n",
    "\n",
    "\n",
    "Suggestions for future work:\n",
    "\n",
    "->Investigate the performance of Naive Bayes classifiers on other spam filtering datasets.\n",
    "->Explore ways to address the limitations of Naive Bayes classifiers, such as the independence assumption and \n",
    "  sensitivity to outliers.\n",
    "->Develop new variants of Naive Bayes classifiers that are specifically designed for spam filtering tasks.\n",
    "->Integrate Naive Bayes classifiers with other machine learning algorithms to improve the overall performance \n",
    "  of spam filtering systems.\n",
    "\"\"\""
   ]
  }
 ],
 "metadata": {
  "kernelspec": {
   "display_name": "Python 3 (ipykernel)",
   "language": "python",
   "name": "python3"
  },
  "language_info": {
   "codemirror_mode": {
    "name": "ipython",
    "version": 3
   },
   "file_extension": ".py",
   "mimetype": "text/x-python",
   "name": "python",
   "nbconvert_exporter": "python",
   "pygments_lexer": "ipython3",
   "version": "3.10.8"
  }
 },
 "nbformat": 4,
 "nbformat_minor": 5
}
